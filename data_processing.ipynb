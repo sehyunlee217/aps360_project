{
 "cells": [
  {
   "cell_type": "code",
   "execution_count": 1,
   "id": "c0575d9b-c419-49d7-a49b-6ce4480a0b51",
   "metadata": {},
   "outputs": [],
   "source": [
    "import torch"
   ]
  },
  {
   "cell_type": "code",
   "execution_count": 2,
   "id": "e46de0ee-cd36-45e7-a108-3ace73206c1d",
   "metadata": {},
   "outputs": [],
   "source": [
    "import glob\n",
    "import cv2\n",
    "import numpy as np\n",
    "import torch\n",
    "from torch.utils.data import Dataset, DataLoader"
   ]
  },
  {
   "cell_type": "code",
   "execution_count": 35,
   "id": "5fa228af-6598-434d-9f33-307952f53c3f",
   "metadata": {},
   "outputs": [
    {
     "name": "stdout",
     "output_type": "stream",
     "text": [
      "Extracted class name: closed\n",
      "Extracted class name: open\n",
      "(tensor([[[119, 119, 121,  ...,  64,  61,  60],\n",
      "         [116, 117, 118,  ...,  63,  60,  58],\n",
      "         [117, 119, 118,  ...,  63,  59,  56],\n",
      "         ...,\n",
      "         [ 82,  83,  84,  ...,  86,  81,  81],\n",
      "         [ 85,  86,  85,  ...,  82,  80,  80],\n",
      "         [ 87,  87,  86,  ...,  83,  80,  80]],\n",
      "\n",
      "        [[119, 119, 121,  ...,  64,  61,  60],\n",
      "         [116, 117, 118,  ...,  63,  60,  58],\n",
      "         [117, 119, 118,  ...,  63,  59,  56],\n",
      "         ...,\n",
      "         [ 82,  83,  84,  ...,  86,  81,  81],\n",
      "         [ 85,  86,  85,  ...,  82,  80,  80],\n",
      "         [ 87,  87,  86,  ...,  83,  80,  80]],\n",
      "\n",
      "        [[119, 119, 121,  ...,  64,  61,  60],\n",
      "         [116, 117, 118,  ...,  63,  60,  58],\n",
      "         [117, 119, 118,  ...,  63,  59,  56],\n",
      "         ...,\n",
      "         [ 82,  83,  84,  ...,  86,  81,  81],\n",
      "         [ 85,  86,  85,  ...,  82,  80,  80],\n",
      "         [ 87,  87,  86,  ...,  83,  80,  80]]], dtype=torch.uint8), tensor([0]))\n"
     ]
    }
   ],
   "source": [
    "import glob\n",
    "import cv2\n",
    "import torch\n",
    "from torch.utils.data import Dataset\n",
    "\n",
    "class CustomDataset(Dataset):\n",
    "    def __init__(self):\n",
    "        self.imgs_path = \"eye_data/train/\"\n",
    "        file_list = glob.glob(self.imgs_path + \"*\")\n",
    "        \n",
    "        self.data = []\n",
    "        for class_path in file_list:\n",
    "            class_name = class_path.split(\"/\")[-1].lower().replace(\" \", \"\")  # Normalize class name\n",
    "            print(f\"Extracted class name: {class_name}\")  # Debugging\n",
    "            for img_path in glob.glob(class_path + \"/*.png\"):\n",
    "                self.data.append([img_path, class_name])\n",
    "        \n",
    "        self.class_map = {\"closed\": 0, \"open\": 1}  # No spaces\n",
    "        self.img_dim = (81, 81)\n",
    "        \n",
    "    def __len__(self):\n",
    "        return len(self.data)   \n",
    "        \n",
    "    def __getitem__(self, idx):\n",
    "        img_path, class_name = self.data[idx]\n",
    "        img = cv2.imread(img_path)\n",
    "        img = cv2.resize(img, self.img_dim)\n",
    "        \n",
    "        if class_name not in self.class_map:\n",
    "            raise KeyError(f\"Class '{class_name}' not found in class_map. Available keys: {self.class_map.keys()}\")\n",
    "        \n",
    "        class_id = self.class_map[class_name]\n",
    "        img_tensor = torch.from_numpy(img)\n",
    "        img_tensor = img_tensor.permute(2, 0, 1)\n",
    "        class_id = torch.tensor([class_id])\n",
    "        return img_tensor, class_id\n",
    "\n",
    "train_set = CustomDataset()\n",
    "print(train_set[0])  # Test it"
   ]
  },
  {
   "cell_type": "code",
   "execution_count": 38,
   "id": "bd3b1b0f-5789-4b20-ae88-3c455f85f534",
   "metadata": {},
   "outputs": [
    {
     "name": "stdout",
     "output_type": "stream",
     "text": [
      "['__add__', '__annotations__', '__class__', '__class_getitem__', '__delattr__', '__dict__', '__dir__', '__doc__', '__eq__', '__format__', '__ge__', '__getattribute__', '__getitem__', '__getstate__', '__gt__', '__hash__', '__init__', '__init_subclass__', '__le__', '__len__', '__lt__', '__module__', '__ne__', '__new__', '__orig_bases__', '__parameters__', '__reduce__', '__reduce_ex__', '__repr__', '__setattr__', '__sizeof__', '__str__', '__subclasshook__', '__weakref__', 'class_map', 'data', 'img_dim', 'imgs_path']\n"
     ]
    }
   ],
   "source": [
    "print(dir(train_set))  # Check if __getitem__ and __len__ exist"
   ]
  },
  {
   "cell_type": "code",
   "execution_count": null,
   "id": "837a7c96-ce80-4c03-8016-73f67bf009f9",
   "metadata": {},
   "outputs": [],
   "source": []
  },
  {
   "cell_type": "code",
   "execution_count": null,
   "id": "bf72fcd5-9a84-426c-8ef8-fe7a8c90e2c7",
   "metadata": {},
   "outputs": [],
   "source": []
  },
  {
   "cell_type": "code",
   "execution_count": null,
   "id": "d79ce596-4504-4b0c-8997-dde4505580ab",
   "metadata": {},
   "outputs": [],
   "source": []
  }
 ],
 "metadata": {
  "kernelspec": {
   "display_name": "Python 3 (ipykernel)",
   "language": "python",
   "name": "python3"
  },
  "language_info": {
   "codemirror_mode": {
    "name": "ipython",
    "version": 3
   },
   "file_extension": ".py",
   "mimetype": "text/x-python",
   "name": "python",
   "nbconvert_exporter": "python",
   "pygments_lexer": "ipython3",
   "version": "3.12.4"
  }
 },
 "nbformat": 4,
 "nbformat_minor": 5
}
