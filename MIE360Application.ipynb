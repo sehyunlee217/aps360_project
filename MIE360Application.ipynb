{
 "cells": [
  {
   "cell_type": "code",
   "execution_count": null,
   "id": "11e9b7d6-3ef8-4730-a116-6cabb6cfbcf3",
   "metadata": {},
   "outputs": [],
   "source": [
    "### Setting up the Webcam \n",
    "\n",
    "Finding the webcam index "
   ]
  },
  {
   "cell_type": "code",
   "execution_count": 10,
   "id": "5a4cddce-6ffe-41b5-a133-db2e9417d5d1",
   "metadata": {
    "scrolled": true
   },
   "outputs": [
    {
     "name": "stdout",
     "output_type": "stream",
     "text": [
      "Webcam found at index 0\n",
      "No webcam at index 1\n",
      "No webcam at index 2\n",
      "No webcam at index 3\n",
      "No webcam at index 4\n"
     ]
    },
    {
     "name": "stderr",
     "output_type": "stream",
     "text": [
      "OpenCV: out device of bound (0-1): 2\n",
      "OpenCV: camera failed to properly initialize!\n",
      "OpenCV: out device of bound (0-1): 3\n",
      "OpenCV: camera failed to properly initialize!\n",
      "OpenCV: out device of bound (0-1): 4\n",
      "OpenCV: camera failed to properly initialize!\n"
     ]
    }
   ],
   "source": [
    "#Finding webcam index (0)\n",
    "import cv2\n",
    "\n",
    "for i in range(5):  # Check first 5 indexes\n",
    "    cap = cv2.VideoCapture(i)\n",
    "    if cap.read()[0]:\n",
    "        print(f\"Webcam found at index {i}\")\n",
    "        cap.release()\n",
    "    else:\n",
    "        print(f\"No webcam at index {i}\")\n"
   ]
  },
  {
   "cell_type": "code",
   "execution_count": 8,
   "id": "44771eb4-c529-4c30-b124-92d257f27992",
   "metadata": {},
   "outputs": [],
   "source": [
    "#Test for webcam on CV2\n",
    "import cv2\n",
    "\n",
    "cap = cv2.VideoCapture(0)  # Try different indexes if needed\n",
    "\n",
    "while True:\n",
    "    ret, frame = cap.read()\n",
    "    if not ret:\n",
    "        print(\"Failed to grab frame. Exiting...\")\n",
    "        break\n",
    "\n",
    "    cv2.imshow(\"Webcam Test\", frame)\n",
    "    \n",
    "    if cv2.waitKey(1) & 0xFF == ord('q'):  # Press 'q' to exit\n",
    "        break\n",
    "\n",
    "cap.release()\n",
    "cv2.destroyAllWindows()\n"
   ]
  },
  {
   "cell_type": "code",
   "execution_count": 14,
   "id": "7b85e5ff-7130-463d-8415-2aa8d7edc239",
   "metadata": {},
   "outputs": [
    {
     "ename": "ModuleNotFoundError",
     "evalue": "No module named 'torch'",
     "output_type": "error",
     "traceback": [
      "\u001b[0;31m---------------------------------------------------------------------------\u001b[0m",
      "\u001b[0;31mModuleNotFoundError\u001b[0m                       Traceback (most recent call last)",
      "Cell \u001b[0;32mIn[14], line 2\u001b[0m\n\u001b[1;32m      1\u001b[0m \u001b[38;5;28;01mimport\u001b[39;00m \u001b[38;5;21;01mcv2\u001b[39;00m\n\u001b[0;32m----> 2\u001b[0m \u001b[38;5;28;01mimport\u001b[39;00m \u001b[38;5;21;01mtorch\u001b[39;00m\n\u001b[1;32m      3\u001b[0m \u001b[38;5;28;01mfrom\u001b[39;00m \u001b[38;5;21;01multralytics\u001b[39;00m \u001b[38;5;28;01mimport\u001b[39;00m YOLO\n\u001b[1;32m      4\u001b[0m \u001b[38;5;28;01mimport\u001b[39;00m \u001b[38;5;21;01mnumpy\u001b[39;00m \u001b[38;5;28;01mas\u001b[39;00m \u001b[38;5;21;01mnp\u001b[39;00m\n",
      "\u001b[0;31mModuleNotFoundError\u001b[0m: No module named 'torch'"
     ]
    }
   ],
   "source": [
    "import cv2\n",
    "import torch\n",
    "from ultralytics import YOLO\n",
    "import numpy as np"
   ]
  },
  {
   "cell_type": "code",
   "execution_count": null,
   "id": "ef19cd3b-bce5-4853-90d6-b95a76b171df",
   "metadata": {},
   "outputs": [],
   "source": []
  }
 ],
 "metadata": {
  "kernelspec": {
   "display_name": "Python 3 (ipykernel)",
   "language": "python",
   "name": "python3"
  },
  "language_info": {
   "codemirror_mode": {
    "name": "ipython",
    "version": 3
   },
   "file_extension": ".py",
   "mimetype": "text/x-python",
   "name": "python",
   "nbconvert_exporter": "python",
   "pygments_lexer": "ipython3",
   "version": "3.12.4"
  }
 },
 "nbformat": 4,
 "nbformat_minor": 5
}
